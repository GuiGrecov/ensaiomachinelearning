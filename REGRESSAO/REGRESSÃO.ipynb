{
 "cells": [
  {
   "cell_type": "markdown",
   "id": "b2208c00",
   "metadata": {},
   "source": [
    "# Functions"
   ]
  },
  {
   "cell_type": "code",
   "execution_count": 1,
   "id": "a71ab50c",
   "metadata": {},
   "outputs": [],
   "source": [
    "def metrics(true, pred):\n",
    "# Essa função calcula as principais métricas dos algoritmos de regressão.\n",
    "    r2 = mt.r2_score(true, pred)\n",
    "    mse = mt.mean_squared_error(true, pred)\n",
    "    rmse = np.sqrt(mse)\n",
    "    mae = mt.mean_absolute_error(true, pred)\n",
    "    mape = mt.mean_absolute_percentage_error(true, pred)\n",
    "    \n",
    "    lista = [[\"R²:\", round(r2,3)], [\"MSE:\",round(mse,3)], [\"RMSE:\", round(rmse,3)], [\"MAE:\", round(mae,3)], [\"MAPE:\", round(mape,3)]]\n",
    "    \n",
    "    return lista"
   ]
  },
  {
   "cell_type": "markdown",
   "id": "40e4f398",
   "metadata": {},
   "source": [
    "# Imports Libraries"
   ]
  },
  {
   "cell_type": "code",
   "execution_count": 2,
   "id": "1944ffe7",
   "metadata": {},
   "outputs": [],
   "source": [
    "import pandas as pd\n",
    "import pandas as pd\n",
    "import numpy as np\n",
    "from sklearn import datasets as ds #biblioteca que gera datasets para testes\n",
    "from sklearn import metrics as mt\n",
    "from sklearn import model_selection as ms\n",
    "from matplotlib import pyplot as plt\n",
    "from sklearn.metrics import roc_curve, roc_auc_score\n",
    "\n",
    "import warnings\n",
    "\n",
    "from sklearn.linear_model import LinearRegression\n",
    "from sklearn.linear_model import Lasso\n",
    "from sklearn.linear_model import Ridge\n",
    "from sklearn.linear_model import ElasticNet\n",
    "from sklearn.preprocessing import PolynomialFeatures\n",
    "from sklearn.tree import DecisionTreeRegressor\n",
    "from sklearn.ensemble import RandomForestRegressor"
   ]
  },
  {
   "cell_type": "code",
   "execution_count": 3,
   "id": "e5d59ec9",
   "metadata": {},
   "outputs": [],
   "source": [
    "## Separação entre Treino e Teste\n",
    "#X_train, X_val, y_train, y_val = ms.train_test_split( X_train, y_train, test_size=0.2, random_state=random_state )\n",
    "\n",
    "#===== TEST DATASEET =====\n",
    "X_test = pd.read_csv(\"X_test.csv\")\n",
    "y_test = pd.read_csv(\"y_test.csv\")\n",
    "\n",
    "#===== VALIDATION DATASEET =====\n",
    "X_val = pd.read_csv(\"X_validation.csv\")\n",
    "y_val = pd.read_csv(\"y_val.csv\")\n",
    "\n",
    "#==== TRANING DATASEET =====\n",
    "X_train  = pd.read_csv(\"X_training.csv\")\n",
    "y_train  = pd.read_csv(\"y_training.csv\")"
   ]
  },
  {
   "cell_type": "markdown",
   "id": "cbd61d5e",
   "metadata": {},
   "source": [
    "# Linear Regression"
   ]
  },
  {
   "cell_type": "code",
   "execution_count": 12,
   "id": "ad332d4d",
   "metadata": {},
   "outputs": [
    {
     "name": "stdout",
     "output_type": "stream",
     "text": [
      "[['R²:', 0.046], ['MSE:', 455.996], ['RMSE:', 21.354], ['MAE:', 16.998], ['MAPE:', 8.653]]\n"
     ]
    }
   ],
   "source": [
    "#model\n",
    "model = LinearRegression()\n",
    "\n",
    "#fit\n",
    "model.fit(X_train, y_train)\n",
    "\n",
    "#predict\n",
    "yhat_train = model.predict(X_train)\n",
    "yhat_val = model.predict(X_val)\n",
    "\n",
    "#results\n",
    "print(metrics(y_train,yhat_train))"
   ]
  },
  {
   "cell_type": "code",
   "execution_count": 13,
   "id": "b99fba39",
   "metadata": {},
   "outputs": [
    {
     "name": "stdout",
     "output_type": "stream",
     "text": [
      "[['R²:', 0.04], ['MSE:', 458.447], ['RMSE:', 21.411], ['MAE:', 17.04], ['MAPE:', 8.683]]\n"
     ]
    }
   ],
   "source": [
    "#model\n",
    "model = LinearRegression()\n",
    "\n",
    "#fit\n",
    "model.fit(X_train, y_train)\n",
    "\n",
    "#predict\n",
    "yhat_train = model.predict(X_train)\n",
    "yhat_val = model.predict(X_val)\n",
    "\n",
    "#results\n",
    "print(metrics(y_val,yhat_val))"
   ]
  },
  {
   "cell_type": "code",
   "execution_count": 14,
   "id": "d3cc687b",
   "metadata": {},
   "outputs": [
    {
     "name": "stdout",
     "output_type": "stream",
     "text": [
      "[['R²:', 0.052], ['MSE:', 461.428], ['RMSE:', 21.481], ['MAE:', 17.13], ['MAPE:', 8.522]]\n"
     ]
    }
   ],
   "source": [
    "#model\n",
    "model = LinearRegression()\n",
    "\n",
    "#fit\n",
    "model.fit(X_train, y_train)\n",
    "\n",
    "#predict\n",
    "yhat_train = model.predict(X_train)\n",
    "yhat_val = model.predict(X_val)\n",
    "yhat_test = model.predict(X_test)\n",
    "\n",
    "#results\n",
    "print(metrics(y_test,yhat_test))"
   ]
  },
  {
   "cell_type": "markdown",
   "id": "7c7c3559",
   "metadata": {},
   "source": [
    "# Linear Regression Lasso"
   ]
  },
  {
   "cell_type": "code",
   "execution_count": 28,
   "id": "adde99c0",
   "metadata": {},
   "outputs": [
    {
     "name": "stdout",
     "output_type": "stream",
     "text": [
      "[['R²:', 0.008], ['MSE:', 483.178], ['RMSE:', 21.981], ['MAE:', 17.473], ['MAPE:', 8.753]]\n"
     ]
    }
   ],
   "source": [
    "model = Lasso(alpha = 1.0, max_iter= 1000) # alpha = 0 é uma regressão linear\n",
    "\n",
    "#fit\n",
    "model.fit(X_train, y_train)\n",
    "\n",
    "#predict\n",
    "yhat_train = model.predict(X_train)\n",
    "yhat_val = model.predict(X_val)\n",
    "yhat_test = model.predict(X_test)\n",
    "\n",
    "#results\n",
    "print(metrics(y_test,yhat_test))"
   ]
  },
  {
   "cell_type": "code",
   "execution_count": 9,
   "id": "09aa4aa7",
   "metadata": {},
   "outputs": [
    {
     "data": {
      "image/png": "[encoded data removed]",
      "text/plain": [
       "<Figure size 640x480 with 1 Axes>"
      ]
     },
     "metadata": {},
     "output_type": "display_data"
    }
   ],
   "source": [
    "## Loop melhor parâmetro\n",
    "values = [i for i in range( 2, 1000 )]\n",
    "val_scores = list()\n",
    "\n",
    "for i in values:\n",
    "    model = Lasso(alpha = 1.0, max_iter= i) # alpha = 0 é uma regressão linear\n",
    "\n",
    "    #fit\n",
    "    model.fit(X_train, y_train) # quais são minhas características e quais são meus rótulos\n",
    "    \n",
    "    # classificação sobre a validação\n",
    "    yhat_val = model.predict( X_test )\n",
    "    \n",
    "    #acc_val = mt.accuracy_score( y_test, yhat_val )\n",
    "    r2 = mt.mean_squared_error(y_test, yhat_val)\n",
    "    val_scores.append( r2 )\n",
    "\n",
    "plt.plot( values, val_scores, '-o', label='Teste' )\n",
    "plt.legend()\n",
    "plt.show()"
   ]
  },
  {
   "cell_type": "code",
   "execution_count": 30,
   "id": "9bad10a2",
   "metadata": {},
   "outputs": [
    {
     "name": "stdout",
     "output_type": "stream",
     "text": [
      "[['R²:', 0.007], ['MSE:', 474.475], ['RMSE:', 21.782], ['MAE:', 17.305], ['MAPE:', 8.737]]\n",
      "[['R²:', 0.008], ['MSE:', 473.747], ['RMSE:', 21.766], ['MAE:', 17.265], ['MAPE:', 8.696]]\n",
      "[['R²:', 0.008], ['MSE:', 483.178], ['RMSE:', 21.981], ['MAE:', 17.473], ['MAPE:', 8.753]]\n"
     ]
    }
   ],
   "source": [
    "#model\n",
    "model = Lasso(alpha = 1.0, max_iter= 1000)\n",
    "\n",
    "\n",
    "#fit\n",
    "model.fit(X_train, y_train)\n",
    "\n",
    "#TESTE\n",
    "#predict\n",
    "yhat_train = model.predict(X_train)\n",
    "\n",
    "#results\n",
    "print(metrics(y_train,yhat_train))\n",
    "\n",
    "#VALIDAÇÃO\n",
    "#predict\n",
    "yhat_val = model.predict(X_val)\n",
    "\n",
    "#results\n",
    "print(metrics(y_val,yhat_val))\n",
    "\n",
    "#TESTE\n",
    "\n",
    "#predict\n",
    "yhat_test = model.predict(X_test)\n",
    "\n",
    "#results\n",
    "print(metrics(y_test,yhat_test))"
   ]
  },
  {
   "cell_type": "markdown",
   "id": "9f288cb0",
   "metadata": {},
   "source": [
    "# Linear Regression Ridge"
   ]
  },
  {
   "cell_type": "code",
   "execution_count": 8,
   "id": "bae6f595",
   "metadata": {},
   "outputs": [
    {
     "data": {
      "image/png": "[encoded data removed]",
      "text/plain": [
       "<Figure size 640x480 with 1 Axes>"
      ]
     },
     "metadata": {},
     "output_type": "display_data"
    }
   ],
   "source": [
    "## Loop melhor parâmetro\n",
    "values = [i for i in range( 2, 1000 )]\n",
    "val_scores = list()\n",
    "\n",
    "for i in values:\n",
    "    model = Ridge(alpha = 1.0, max_iter= i) # alpha = 0 é uma regressão linear\n",
    "\n",
    "    #fit\n",
    "    model.fit(X_train, y_train) # quais são minhas características e quais são meus rótulos\n",
    "    \n",
    "    # classificação sobre a validação\n",
    "    yhat_val = model.predict( X_test )\n",
    "    \n",
    "    #acc_val = mt.accuracy_score( y_test, yhat_val )\n",
    "    r2 = mt.mean_squared_error(y_test, yhat_val)\n",
    "    val_scores.append( r2 )\n",
    "\n",
    "plt.plot( values, val_scores, '-o', label='Teste' )\n",
    "plt.legend()\n",
    "plt.show()"
   ]
  },
  {
   "cell_type": "code",
   "execution_count": 6,
   "id": "0e11869d",
   "metadata": {},
   "outputs": [
    {
     "name": "stdout",
     "output_type": "stream",
     "text": [
      "[['R²:', 0.046], ['MSE:', 455.996], ['RMSE:', 21.354], ['MAE:', 16.998], ['MAPE:', 8.653]]\n",
      "[['R²:', 0.04], ['MSE:', 458.445], ['RMSE:', 21.411], ['MAE:', 17.039], ['MAPE:', 8.682]]\n",
      "[['R²:', 0.052], ['MSE:', 461.431], ['RMSE:', 21.481], ['MAE:', 17.13], ['MAPE:', 8.523]]\n"
     ]
    }
   ],
   "source": [
    "#model\n",
    "model = Ridge(alpha = 1.0, max_iter= 1000)\n",
    "\n",
    "\n",
    "#fit\n",
    "model.fit(X_train, y_train)\n",
    "\n",
    "#TESTE\n",
    "#predict\n",
    "yhat_train = model.predict(X_train)\n",
    "\n",
    "#results\n",
    "print(metrics(y_train,yhat_train))\n",
    "\n",
    "#VALIDAÇÃO\n",
    "#predict\n",
    "yhat_val = model.predict(X_val)\n",
    "\n",
    "#results\n",
    "print(metrics(y_val,yhat_val))\n",
    "\n",
    "#TESTE\n",
    "\n",
    "#predict\n",
    "yhat_test = model.predict(X_test)\n",
    "\n",
    "#results\n",
    "print(metrics(y_test,yhat_test))"
   ]
  },
  {
   "cell_type": "markdown",
   "id": "52ee1229",
   "metadata": {},
   "source": [
    "# Linear Regression Elastic Net"
   ]
  },
  {
   "cell_type": "markdown",
   "id": "ec945f51",
   "metadata": {},
   "source": [
    "Junção da Lasso e Ridge parametro igual a 0.5 significa que irá ficar no meio dos dois códigos "
   ]
  },
  {
   "cell_type": "code",
   "execution_count": 7,
   "id": "c207c92a",
   "metadata": {},
   "outputs": [
    {
     "data": {
      "image/png": "[encoded data removed]",
      "text/plain": [
       "<Figure size 640x480 with 1 Axes>"
      ]
     },
     "metadata": {},
     "output_type": "display_data"
    }
   ],
   "source": [
    "## Loop melhor parâmetro\n",
    "values = [i for i in range( 2, 1000 )]\n",
    "val_scores = list()\n",
    "\n",
    "for i in values:\n",
    "    model = ElasticNet(alpha = 1.0, l1_ratio = 0.5, max_iter= i) # alpha = 0 é uma regressão linear\n",
    "\n",
    "    #fit\n",
    "    model.fit(X_train, y_train) # quais são minhas características e quais são meus rótulos\n",
    "    \n",
    "    # classificação sobre a validação\n",
    "    yhat_val = model.predict( X_test )\n",
    "    \n",
    "    #acc_val = mt.accuracy_score( y_test, yhat_val )\n",
    "    r2 = mt.mean_squared_error(y_test, yhat_val)\n",
    "    val_scores.append( r2 )\n",
    "\n",
    "plt.plot( values, val_scores, '-o', label='Treino' )\n",
    "plt.legend()\n",
    "plt.show()"
   ]
  },
  {
   "cell_type": "code",
   "execution_count": 32,
   "id": "92e5a08d",
   "metadata": {},
   "outputs": [
    {
     "name": "stdout",
     "output_type": "stream",
     "text": [
      "[['R²:', 0.008], ['MSE:', 474.269], ['RMSE:', 21.778], ['MAE:', 17.3], ['MAPE:', 8.732]]\n",
      "[['R²:', 0.008], ['MSE:', 473.636], ['RMSE:', 21.763], ['MAE:', 17.263], ['MAPE:', 8.694]]\n",
      "[['R²:', 0.008], ['MSE:', 483.035], ['RMSE:', 21.978], ['MAE:', 17.47], ['MAPE:', 8.745]]\n"
     ]
    }
   ],
   "source": [
    "#model\n",
    "model = ElasticNet(alpha = 1.0, l1_ratio = 0.5, max_iter= 1000)\n",
    "\n",
    "\n",
    "#fit\n",
    "model.fit(X_train, y_train)\n",
    "\n",
    "#TESTE\n",
    "#predict\n",
    "yhat_train = model.predict(X_train)\n",
    "\n",
    "#results\n",
    "print(metrics(y_train,yhat_train))\n",
    "\n",
    "#VALIDAÇÃO\n",
    "#predict\n",
    "yhat_val = model.predict(X_val)\n",
    "\n",
    "#results\n",
    "print(metrics(y_val,yhat_val))\n",
    "\n",
    "#TESTE\n",
    "\n",
    "#predict\n",
    "yhat_test = model.predict(X_test)\n",
    "\n",
    "#results\n",
    "print(metrics(y_test,yhat_test))"
   ]
  },
  {
   "cell_type": "markdown",
   "id": "0920de79",
   "metadata": {},
   "source": [
    "# Polinomial Regression\n"
   ]
  },
  {
   "cell_type": "code",
   "execution_count": 6,
   "id": "29dc009c",
   "metadata": {},
   "outputs": [
    {
     "data": {
      "image/png": "[encoded data removed]",
      "text/plain": [
       "<Figure size 640x480 with 1 Axes>"
      ]
     },
     "metadata": {},
     "output_type": "display_data"
    }
   ],
   "source": [
    "## Loop melhor parâmetro\n",
    "values = [i for i in range( 2, 6 )]\n",
    "val_scores = list()\n",
    "\n",
    "for i in values:\n",
    "    poly = PolynomialFeatures(degree=i)\n",
    "\n",
    "    #model\n",
    "    X_poly = poly.fit_transform(X_train)\n",
    "    X_val_poly = poly.fit_transform(X_val)\n",
    "    X_test_poly = poly.fit_transform(X_test)\n",
    "\n",
    "    # model training\n",
    "    model = LinearRegression()\n",
    "    model.fit( X_poly, y_train )\n",
    "\n",
    "    # predict\n",
    "    yhat = model.predict( X_test_poly )\n",
    "    \n",
    "    #acc_val = mt.accuracy_score( y_test, yhat_val )\n",
    "    r2 = mt.r2_score(y_test, yhat)\n",
    "    val_scores.append( r2 )\n",
    "\n",
    "plt.plot( values, val_scores, '-o', label='Treino' )\n",
    "plt.legend()\n",
    "plt.show()"
   ]
  },
  {
   "cell_type": "code",
   "execution_count": 7,
   "id": "e03a2b1b",
   "metadata": {},
   "outputs": [
    {
     "name": "stdout",
     "output_type": "stream",
     "text": [
      "[['R²:', 0.094], ['MSE:', 432.986], ['RMSE:', 20.808], ['MAE:', 16.458], ['MAPE:', 8.351]]\n",
      "[['R²:', 0.066], ['MSE:', 445.768], ['RMSE:', 21.113], ['MAE:', 16.75], ['MAPE:', 8.548]]\n",
      "[['R²:', 0.09], ['MSE:', 443.041], ['RMSE:', 21.049], ['MAE:', 16.721], ['MAPE:', 8.242]]\n"
     ]
    }
   ],
   "source": [
    "poly = PolynomialFeatures(degree=2)\n",
    "\n",
    "#model\n",
    "X_poly = poly.fit_transform(X_train)\n",
    "X_val_poly = poly.fit_transform(X_val)\n",
    "X_test_poly = poly.fit_transform(X_test)\n",
    "\n",
    "# model training\n",
    "model = LinearRegression()\n",
    "model.fit( X_poly, y_train )\n",
    "\n",
    "# predict\n",
    "yhat_train = model.predict( X_poly )\n",
    "yhat_val = model.predict( X_val_poly )\n",
    "yhat_test = model.predict( X_test_poly )\n",
    "\n",
    "#results\n",
    "print(metrics(y_train,yhat_train))\n",
    "print(metrics(y_val,yhat_val))\n",
    "print(metrics(y_test,yhat_test))\n",
    "\n",
    "\n"
   ]
  },
  {
   "cell_type": "markdown",
   "id": "9eb74be9",
   "metadata": {},
   "source": [
    "# Polinomial Regression Lasso"
   ]
  },
  {
   "cell_type": "code",
   "execution_count": 9,
   "id": "e29e9454",
   "metadata": {},
   "outputs": [
    {
     "name": "stderr",
     "output_type": "stream",
     "text": [
      "C:\\Users\\Guilherme\\anaconda3\\Lib\\site-packages\\sklearn\\linear_model\\_coordinate_descent.py:628: ConvergenceWarning: Objective did not converge. You might want to increase the number of iterations, check the scale of the features or consider increasing regularisation. Duality gap: 2.452e+06, tolerance: 5.042e+02\n",
      "  model = cd_fast.enet_coordinate_descent(\n"
     ]
    },
    {
     "data": {
      "image/png": "[encoded data removed]",
      "text/plain": [
       "<Figure size 640x480 with 1 Axes>"
      ]
     },
     "metadata": {},
     "output_type": "display_data"
    }
   ],
   "source": [
    "## Loop melhor parâmetro\n",
    "values = [i for i in range( 2, 6 )]\n",
    "val_scores = list()\n",
    "\n",
    "for i in values:\n",
    "    poly = PolynomialFeatures(degree=i)\n",
    "\n",
    "    #model\n",
    "    X_poly = poly.fit_transform(X_train)\n",
    "    X_val_poly = poly.fit_transform(X_val)\n",
    "    X_test_poly = poly.fit_transform(X_test)\n",
    "\n",
    "    # model training\n",
    "    model = Lasso(alpha = 1, max_iter = 1000)\n",
    "    model.fit( X_poly, y_train )\n",
    "\n",
    "    # predict\n",
    "    yhat = model.predict( X_test_poly )\n",
    "    \n",
    "    #acc_val = mt.accuracy_score( y_test, yhat_val )\n",
    "    r2 = mt.r2_score(y_test, yhat)\n",
    "    val_scores.append( r2 )\n",
    "\n",
    "plt.plot( values, val_scores, '-o', label='Treino' )\n",
    "plt.legend()\n",
    "plt.show()"
   ]
  },
  {
   "cell_type": "code",
   "execution_count": 12,
   "id": "86f5a205",
   "metadata": {},
   "outputs": [
    {
     "name": "stdout",
     "output_type": "stream",
     "text": [
      "[['R²:', 0.009], ['MSE:', 473.639], ['RMSE:', 21.763], ['MAE:', 17.285], ['MAPE:', 8.7]]\n",
      "[['R²:', 0.01], ['MSE:', 472.913], ['RMSE:', 21.747], ['MAE:', 17.238], ['MAPE:', 8.682]]\n",
      "[['R²:', 0.008], ['MSE:', 482.824], ['RMSE:', 21.973], ['MAE:', 17.457], ['MAPE:', 8.756]]\n"
     ]
    }
   ],
   "source": [
    "poly = PolynomialFeatures(degree=2)\n",
    "\n",
    "#model\n",
    "X_poly = poly.fit_transform(X_train)\n",
    "X_val_poly = poly.fit_transform(X_val)\n",
    "X_test_poly = poly.fit_transform(X_test)\n",
    "\n",
    "# model training\n",
    "model = Lasso(alpha = 1, max_iter = 1000)\n",
    "model.fit( X_poly, y_train )\n",
    "\n",
    "# predict\n",
    "yhat_train = model.predict( X_poly )\n",
    "yhat_val = model.predict( X_val_poly )\n",
    "yhat_test = model.predict( X_test_poly )\n",
    "\n",
    "#results\n",
    "print(metrics(y_train,yhat_train))\n",
    "print(metrics(y_val,yhat_val))\n",
    "print(metrics(y_test,yhat_test))"
   ]
  },
  {
   "cell_type": "markdown",
   "id": "bbb14de9",
   "metadata": {},
   "source": [
    "#  Polinomial Regression Ridge"
   ]
  },
  {
   "cell_type": "code",
   "execution_count": 15,
   "id": "49b1eb40",
   "metadata": {},
   "outputs": [
    {
     "data": {
      "image/png": "[encoded data removed]",
      "text/plain": [
       "<Figure size 640x480 with 1 Axes>"
      ]
     },
     "metadata": {},
     "output_type": "display_data"
    }
   ],
   "source": [
    "## Loop melhor parâmetro\n",
    "values = [i for i in range( 2, 6 )]\n",
    "val_scores = list()\n",
    "\n",
    "for i in values:\n",
    "    poly = PolynomialFeatures(degree=i)\n",
    "\n",
    "    #model\n",
    "    X_poly = poly.fit_transform(X_train)\n",
    "    X_val_poly = poly.fit_transform(X_val)\n",
    "    X_test_poly = poly.fit_transform(X_test)\n",
    "\n",
    "    # model training\n",
    "    model = Ridge(alpha = 1, max_iter = 1000)\n",
    "    model.fit( X_poly, y_train )\n",
    "\n",
    "    # predict\n",
    "    yhat = model.predict( X_test_poly )\n",
    "    \n",
    "    #acc_val = mt.accuracy_score( y_test, yhat_val )\n",
    "    r2 = mt.r2_score(y_test, yhat)\n",
    "    val_scores.append( r2 )\n",
    "\n",
    "plt.plot( values, val_scores, '-o', label='Treino' )\n",
    "plt.legend()\n",
    "plt.show()"
   ]
  },
  {
   "cell_type": "code",
   "execution_count": 13,
   "id": "40c4f348",
   "metadata": {},
   "outputs": [
    {
     "name": "stdout",
     "output_type": "stream",
     "text": [
      "[['R²:', 0.093], ['MSE:', 433.475], ['RMSE:', 20.82], ['MAE:', 16.472], ['MAPE:', 8.373]]\n",
      "[['R²:', 0.068], ['MSE:', 445.184], ['RMSE:', 21.099], ['MAE:', 16.739], ['MAPE:', 8.569]]\n",
      "[['R²:', 0.089], ['MSE:', 443.485], ['RMSE:', 21.059], ['MAE:', 16.729], ['MAPE:', 8.289]]\n"
     ]
    }
   ],
   "source": [
    "poly = PolynomialFeatures(degree=2)\n",
    "\n",
    "#model\n",
    "X_poly = poly.fit_transform(X_train)\n",
    "X_val_poly = poly.fit_transform(X_val)\n",
    "X_test_poly = poly.fit_transform(X_test)\n",
    "\n",
    "# model training\n",
    "model = Ridge(alpha = 1, max_iter = 1000)\n",
    "model.fit( X_poly, y_train )\n",
    "\n",
    "# predict\n",
    "yhat_train = model.predict( X_poly )\n",
    "yhat_val = model.predict( X_val_poly )\n",
    "yhat_test = model.predict( X_test_poly )\n",
    "\n",
    "#results\n",
    "print(metrics(y_train,yhat_train))\n",
    "print(metrics(y_val,yhat_val))\n",
    "print(metrics(y_test,yhat_test))"
   ]
  },
  {
   "cell_type": "markdown",
   "id": "fd0cb6ac",
   "metadata": {},
   "source": [
    " # Polinomial Regression Elastic Net\n"
   ]
  },
  {
   "cell_type": "code",
   "execution_count": 16,
   "id": "8246a656",
   "metadata": {},
   "outputs": [
    {
     "name": "stderr",
     "output_type": "stream",
     "text": [
      "C:\\Users\\Guilherme\\anaconda3\\Lib\\site-packages\\sklearn\\linear_model\\_coordinate_descent.py:628: ConvergenceWarning: Objective did not converge. You might want to increase the number of iterations, check the scale of the features or consider increasing regularisation. Duality gap: 2.189e+06, tolerance: 5.042e+02\n",
      "  model = cd_fast.enet_coordinate_descent(\n",
      "C:\\Users\\Guilherme\\anaconda3\\Lib\\site-packages\\sklearn\\linear_model\\_coordinate_descent.py:628: ConvergenceWarning: Objective did not converge. You might want to increase the number of iterations, check the scale of the features or consider increasing regularisation. Duality gap: 2.466e+06, tolerance: 5.042e+02\n",
      "  model = cd_fast.enet_coordinate_descent(\n"
     ]
    },
    {
     "data": {
      "image/png": "[encoded data removed]",
      "text/plain": [
       "<Figure size 640x480 with 1 Axes>"
      ]
     },
     "metadata": {},
     "output_type": "display_data"
    }
   ],
   "source": [
    "## Loop melhor parâmetro\n",
    "values = [i for i in range( 2, 6 )]\n",
    "val_scores = list()\n",
    "\n",
    "for i in values:\n",
    "    poly = PolynomialFeatures(degree=i)\n",
    "\n",
    "    #model\n",
    "    X_poly = poly.fit_transform(X_train)\n",
    "    X_val_poly = poly.fit_transform(X_val)\n",
    "    X_test_poly = poly.fit_transform(X_test)\n",
    "\n",
    "    # model training\n",
    "    model = ElasticNet(alpha = 1, max_iter = 1000)\n",
    "    model.fit( X_poly, y_train )\n",
    "\n",
    "    # predict\n",
    "    yhat = model.predict( X_test_poly )\n",
    "    \n",
    "    #acc_val = mt.accuracy_score( y_test, yhat_val )\n",
    "    r2 = mt.r2_score(y_test, yhat)\n",
    "    val_scores.append( r2 )\n",
    "\n",
    "plt.plot( values, val_scores, '-o', label='Treino' )\n",
    "plt.legend()\n",
    "plt.show()"
   ]
  },
  {
   "cell_type": "code",
   "execution_count": 14,
   "id": "4810a39d",
   "metadata": {},
   "outputs": [
    {
     "name": "stdout",
     "output_type": "stream",
     "text": [
      "[['R²:', 0.013], ['MSE:', 471.878], ['RMSE:', 21.723], ['MAE:', 17.244], ['MAPE:', 8.679]]\n",
      "[['R²:', 0.013], ['MSE:', 471.408], ['RMSE:', 21.712], ['MAE:', 17.2], ['MAPE:', 8.675]]\n",
      "[['R²:', 0.011], ['MSE:', 481.695], ['RMSE:', 21.948], ['MAE:', 17.426], ['MAPE:', 8.751]]\n"
     ]
    }
   ],
   "source": [
    "poly = PolynomialFeatures(degree=2)\n",
    "\n",
    "#model\n",
    "X_poly = poly.fit_transform(X_train)\n",
    "X_val_poly = poly.fit_transform(X_val)\n",
    "X_test_poly = poly.fit_transform(X_test)\n",
    "\n",
    "# model training\n",
    "model = ElasticNet(alpha = 1, max_iter = 1000)\n",
    "model.fit( X_poly, y_train )\n",
    "\n",
    "# predict\n",
    "yhat_train = model.predict( X_poly )\n",
    "yhat_val = model.predict( X_val_poly )\n",
    "yhat_test = model.predict( X_test_poly )\n",
    "\n",
    "#results\n",
    "print(metrics(y_train,yhat_train))\n",
    "print(metrics(y_val,yhat_val))\n",
    "print(metrics(y_test,yhat_test))"
   ]
  },
  {
   "cell_type": "markdown",
   "id": "e467fbbf",
   "metadata": {},
   "source": [
    "# Decision Tree Regressor"
   ]
  },
  {
   "cell_type": "code",
   "execution_count": 19,
   "id": "6662bd36",
   "metadata": {},
   "outputs": [
    {
     "data": {
      "image/png": "[encoded data removed]",
      "text/plain": [
       "<Figure size 640x480 with 1 Axes>"
      ]
     },
     "metadata": {},
     "output_type": "display_data"
    }
   ],
   "source": [
    "## Loop melhor parâmetro\n",
    "values = [i for i in range( 1, 100 )]\n",
    "val_scores = list()\n",
    "\n",
    "for i in values:\n",
    "    # Criar um modelo de árvore de decisão\n",
    "    model = DecisionTreeRegressor(max_depth = i)\n",
    "\n",
    "    # Treinar o modelo com os dados de treinamento\n",
    "    model.fit(X_train, y_train)\n",
    "\n",
    "    # Fazer previsões nos dados de teste\n",
    "    yhat_test = model.predict(X_test)\n",
    "    \n",
    "    #acc_val = mt.accuracy_score( y_test, yhat_val )\n",
    "    r2 = mt.r2_score(y_test, yhat_test)\n",
    "    val_scores.append( r2 )\n",
    "\n",
    "plt.plot( values, val_scores, '-o', label='Treino' )\n",
    "plt.legend()\n",
    "plt.show()"
   ]
  },
  {
   "cell_type": "code",
   "execution_count": 18,
   "id": "5d7c8339",
   "metadata": {},
   "outputs": [
    {
     "name": "stdout",
     "output_type": "stream",
     "text": [
      "[['R²:', 0.992], ['MSE:', 3.94], ['RMSE:', 1.985], ['MAE:', 0.214], ['MAPE:', 0.083]]\n",
      "[['R²:', -0.272], ['MSE:', 607.283], ['RMSE:', 24.643], ['MAE:', 16.991], ['MAPE:', 6.789]]\n",
      "[['R²:', -0.209], ['MSE:', 588.813], ['RMSE:', 24.265], ['MAE:', 16.713], ['MAPE:', 6.433]]\n"
     ]
    }
   ],
   "source": [
    "# Criar um modelo de árvore de decisão\n",
    "model = DecisionTreeRegressor()\n",
    "\n",
    "# Treinar o modelo com os dados de treinamento\n",
    "model.fit(X_train, y_train)\n",
    "\n",
    "# Fazer previsões nos dados de teste\n",
    "yhat_train = model.predict(X_train)\n",
    "yhat_val = model.predict(X_val)\n",
    "yhat_test = model.predict(X_test)\n",
    "\n",
    "print(metrics(y_train,yhat_train))\n",
    "print(metrics(y_val,yhat_val))\n",
    "print(metrics(y_test,yhat_test))"
   ]
  },
  {
   "cell_type": "markdown",
   "id": "39761380",
   "metadata": {},
   "source": [
    "# Random Forest Regressor"
   ]
  },
  {
   "cell_type": "code",
   "execution_count": 20,
   "id": "69ee70e2",
   "metadata": {
    "scrolled": false
   },
   "outputs": [
    {
     "name": "stderr",
     "output_type": "stream",
     "text": [
      "C:\\Users\\Guilherme\\anaconda3\\Lib\\site-packages\\sklearn\\base.py:1151: DataConversionWarning: A column-vector y was passed when a 1d array was expected. Please change the shape of y to (n_samples,), for example using ravel().\n",
      "  return fit_method(estimator, *args, **kwargs)\n",
      "C:\\Users\\Guilherme\\anaconda3\\Lib\\site-packages\\sklearn\\base.py:1151: DataConversionWarning: A column-vector y was passed when a 1d array was expected. Please change the shape of y to (n_samples,), for example using ravel().\n",
      "  return fit_method(estimator, *args, **kwargs)\n",
      "C:\\Users\\Guilherme\\anaconda3\\Lib\\site-packages\\sklearn\\base.py:1151: DataConversionWarning: A column-vector y was passed when a 1d array was expected. Please change the shape of y to (n_samples,), for example using ravel().\n",
      "  return fit_method(estimator, *args, **kwargs)\n",
      "C:\\Users\\Guilherme\\anaconda3\\Lib\\site-packages\\sklearn\\base.py:1151: DataConversionWarning: A column-vector y was passed when a 1d array was expected. Please change the shape of y to (n_samples,), for example using ravel().\n",
      "  return fit_method(estimator, *args, **kwargs)\n",
      "C:\\Users\\Guilherme\\anaconda3\\Lib\\site-packages\\sklearn\\base.py:1151: DataConversionWarning: A column-vector y was passed when a 1d array was expected. Please change the shape of y to (n_samples,), for example using ravel().\n",
      "  return fit_method(estimator, *args, **kwargs)\n",
      "C:\\Users\\Guilherme\\anaconda3\\Lib\\site-packages\\sklearn\\base.py:1151: DataConversionWarning: A column-vector y was passed when a 1d array was expected. Please change the shape of y to (n_samples,), for example using ravel().\n",
      "  return fit_method(estimator, *args, **kwargs)\n",
      "C:\\Users\\Guilherme\\anaconda3\\Lib\\site-packages\\sklearn\\base.py:1151: DataConversionWarning: A column-vector y was passed when a 1d array was expected. Please change the shape of y to (n_samples,), for example using ravel().\n",
      "  return fit_method(estimator, *args, **kwargs)\n",
      "C:\\Users\\Guilherme\\anaconda3\\Lib\\site-packages\\sklearn\\base.py:1151: DataConversionWarning: A column-vector y was passed when a 1d array was expected. Please change the shape of y to (n_samples,), for example using ravel().\n",
      "  return fit_method(estimator, *args, **kwargs)\n",
      "C:\\Users\\Guilherme\\anaconda3\\Lib\\site-packages\\sklearn\\base.py:1151: DataConversionWarning: A column-vector y was passed when a 1d array was expected. Please change the shape of y to (n_samples,), for example using ravel().\n",
      "  return fit_method(estimator, *args, **kwargs)\n",
      "C:\\Users\\Guilherme\\anaconda3\\Lib\\site-packages\\sklearn\\base.py:1151: DataConversionWarning: A column-vector y was passed when a 1d array was expected. Please change the shape of y to (n_samples,), for example using ravel().\n",
      "  return fit_method(estimator, *args, **kwargs)\n",
      "C:\\Users\\Guilherme\\anaconda3\\Lib\\site-packages\\sklearn\\base.py:1151: DataConversionWarning: A column-vector y was passed when a 1d array was expected. Please change the shape of y to (n_samples,), for example using ravel().\n",
      "  return fit_method(estimator, *args, **kwargs)\n",
      "C:\\Users\\Guilherme\\anaconda3\\Lib\\site-packages\\sklearn\\base.py:1151: DataConversionWarning: A column-vector y was passed when a 1d array was expected. Please change the shape of y to (n_samples,), for example using ravel().\n",
      "  return fit_method(estimator, *args, **kwargs)\n",
      "C:\\Users\\Guilherme\\anaconda3\\Lib\\site-packages\\sklearn\\base.py:1151: DataConversionWarning: A column-vector y was passed when a 1d array was expected. Please change the shape of y to (n_samples,), for example using ravel().\n",
      "  return fit_method(estimator, *args, **kwargs)\n",
      "C:\\Users\\Guilherme\\anaconda3\\Lib\\site-packages\\sklearn\\base.py:1151: DataConversionWarning: A column-vector y was passed when a 1d array was expected. Please change the shape of y to (n_samples,), for example using ravel().\n",
      "  return fit_method(estimator, *args, **kwargs)\n",
      "C:\\Users\\Guilherme\\anaconda3\\Lib\\site-packages\\sklearn\\base.py:1151: DataConversionWarning: A column-vector y was passed when a 1d array was expected. Please change the shape of y to (n_samples,), for example using ravel().\n",
      "  return fit_method(estimator, *args, **kwargs)\n",
      "C:\\Users\\Guilherme\\anaconda3\\Lib\\site-packages\\sklearn\\base.py:1151: DataConversionWarning: A column-vector y was passed when a 1d array was expected. Please change the shape of y to (n_samples,), for example using ravel().\n",
      "  return fit_method(estimator, *args, **kwargs)\n",
      "C:\\Users\\Guilherme\\anaconda3\\Lib\\site-packages\\sklearn\\base.py:1151: DataConversionWarning: A column-vector y was passed when a 1d array was expected. Please change the shape of y to (n_samples,), for example using ravel().\n",
      "  return fit_method(estimator, *args, **kwargs)\n",
      "C:\\Users\\Guilherme\\anaconda3\\Lib\\site-packages\\sklearn\\base.py:1151: DataConversionWarning: A column-vector y was passed when a 1d array was expected. Please change the shape of y to (n_samples,), for example using ravel().\n",
      "  return fit_method(estimator, *args, **kwargs)\n",
      "C:\\Users\\Guilherme\\anaconda3\\Lib\\site-packages\\sklearn\\base.py:1151: DataConversionWarning: A column-vector y was passed when a 1d array was expected. Please change the shape of y to (n_samples,), for example using ravel().\n",
      "  return fit_method(estimator, *args, **kwargs)\n",
      "C:\\Users\\Guilherme\\anaconda3\\Lib\\site-packages\\sklearn\\base.py:1151: DataConversionWarning: A column-vector y was passed when a 1d array was expected. Please change the shape of y to (n_samples,), for example using ravel().\n",
      "  return fit_method(estimator, *args, **kwargs)\n",
      "C:\\Users\\Guilherme\\anaconda3\\Lib\\site-packages\\sklearn\\base.py:1151: DataConversionWarning: A column-vector y was passed when a 1d array was expected. Please change the shape of y to (n_samples,), for example using ravel().\n",
      "  return fit_method(estimator, *args, **kwargs)\n",
      "C:\\Users\\Guilherme\\anaconda3\\Lib\\site-packages\\sklearn\\base.py:1151: DataConversionWarning: A column-vector y was passed when a 1d array was expected. Please change the shape of y to (n_samples,), for example using ravel().\n",
      "  return fit_method(estimator, *args, **kwargs)\n",
      "C:\\Users\\Guilherme\\anaconda3\\Lib\\site-packages\\sklearn\\base.py:1151: DataConversionWarning: A column-vector y was passed when a 1d array was expected. Please change the shape of y to (n_samples,), for example using ravel().\n",
      "  return fit_method(estimator, *args, **kwargs)\n",
      "C:\\Users\\Guilherme\\anaconda3\\Lib\\site-packages\\sklearn\\base.py:1151: DataConversionWarning: A column-vector y was passed when a 1d array was expected. Please change the shape of y to (n_samples,), for example using ravel().\n",
      "  return fit_method(estimator, *args, **kwargs)\n",
      "C:\\Users\\Guilherme\\anaconda3\\Lib\\site-packages\\sklearn\\base.py:1151: DataConversionWarning: A column-vector y was passed when a 1d array was expected. Please change the shape of y to (n_samples,), for example using ravel().\n",
      "  return fit_method(estimator, *args, **kwargs)\n",
      "C:\\Users\\Guilherme\\anaconda3\\Lib\\site-packages\\sklearn\\base.py:1151: DataConversionWarning: A column-vector y was passed when a 1d array was expected. Please change the shape of y to (n_samples,), for example using ravel().\n",
      "  return fit_method(estimator, *args, **kwargs)\n",
      "C:\\Users\\Guilherme\\anaconda3\\Lib\\site-packages\\sklearn\\base.py:1151: DataConversionWarning: A column-vector y was passed when a 1d array was expected. Please change the shape of y to (n_samples,), for example using ravel().\n",
      "  return fit_method(estimator, *args, **kwargs)\n",
      "C:\\Users\\Guilherme\\anaconda3\\Lib\\site-packages\\sklearn\\base.py:1151: DataConversionWarning: A column-vector y was passed when a 1d array was expected. Please change the shape of y to (n_samples,), for example using ravel().\n",
      "  return fit_method(estimator, *args, **kwargs)\n",
      "C:\\Users\\Guilherme\\anaconda3\\Lib\\site-packages\\sklearn\\base.py:1151: DataConversionWarning: A column-vector y was passed when a 1d array was expected. Please change the shape of y to (n_samples,), for example using ravel().\n",
      "  return fit_method(estimator, *args, **kwargs)\n",
      "C:\\Users\\Guilherme\\anaconda3\\Lib\\site-packages\\sklearn\\base.py:1151: DataConversionWarning: A column-vector y was passed when a 1d array was expected. Please change the shape of y to (n_samples,), for example using ravel().\n",
      "  return fit_method(estimator, *args, **kwargs)\n",
      "C:\\Users\\Guilherme\\anaconda3\\Lib\\site-packages\\sklearn\\base.py:1151: DataConversionWarning: A column-vector y was passed when a 1d array was expected. Please change the shape of y to (n_samples,), for example using ravel().\n",
      "  return fit_method(estimator, *args, **kwargs)\n"
     ]
    },
    {
     "name": "stderr",
     "output_type": "stream",
     "text": [
      "C:\\Users\\Guilherme\\anaconda3\\Lib\\site-packages\\sklearn\\base.py:1151: DataConversionWarning: A column-vector y was passed when a 1d array was expected. Please change the shape of y to (n_samples,), for example using ravel().\n",
      "  return fit_method(estimator, *args, **kwargs)\n",
      "C:\\Users\\Guilherme\\anaconda3\\Lib\\site-packages\\sklearn\\base.py:1151: DataConversionWarning: A column-vector y was passed when a 1d array was expected. Please change the shape of y to (n_samples,), for example using ravel().\n",
      "  return fit_method(estimator, *args, **kwargs)\n",
      "C:\\Users\\Guilherme\\anaconda3\\Lib\\site-packages\\sklearn\\base.py:1151: DataConversionWarning: A column-vector y was passed when a 1d array was expected. Please change the shape of y to (n_samples,), for example using ravel().\n",
      "  return fit_method(estimator, *args, **kwargs)\n",
      "C:\\Users\\Guilherme\\anaconda3\\Lib\\site-packages\\sklearn\\base.py:1151: DataConversionWarning: A column-vector y was passed when a 1d array was expected. Please change the shape of y to (n_samples,), for example using ravel().\n",
      "  return fit_method(estimator, *args, **kwargs)\n",
      "C:\\Users\\Guilherme\\anaconda3\\Lib\\site-packages\\sklearn\\base.py:1151: DataConversionWarning: A column-vector y was passed when a 1d array was expected. Please change the shape of y to (n_samples,), for example using ravel().\n",
      "  return fit_method(estimator, *args, **kwargs)\n",
      "C:\\Users\\Guilherme\\anaconda3\\Lib\\site-packages\\sklearn\\base.py:1151: DataConversionWarning: A column-vector y was passed when a 1d array was expected. Please change the shape of y to (n_samples,), for example using ravel().\n",
      "  return fit_method(estimator, *args, **kwargs)\n",
      "C:\\Users\\Guilherme\\anaconda3\\Lib\\site-packages\\sklearn\\base.py:1151: DataConversionWarning: A column-vector y was passed when a 1d array was expected. Please change the shape of y to (n_samples,), for example using ravel().\n",
      "  return fit_method(estimator, *args, **kwargs)\n",
      "C:\\Users\\Guilherme\\anaconda3\\Lib\\site-packages\\sklearn\\base.py:1151: DataConversionWarning: A column-vector y was passed when a 1d array was expected. Please change the shape of y to (n_samples,), for example using ravel().\n",
      "  return fit_method(estimator, *args, **kwargs)\n",
      "C:\\Users\\Guilherme\\anaconda3\\Lib\\site-packages\\sklearn\\base.py:1151: DataConversionWarning: A column-vector y was passed when a 1d array was expected. Please change the shape of y to (n_samples,), for example using ravel().\n",
      "  return fit_method(estimator, *args, **kwargs)\n",
      "C:\\Users\\Guilherme\\anaconda3\\Lib\\site-packages\\sklearn\\base.py:1151: DataConversionWarning: A column-vector y was passed when a 1d array was expected. Please change the shape of y to (n_samples,), for example using ravel().\n",
      "  return fit_method(estimator, *args, **kwargs)\n",
      "C:\\Users\\Guilherme\\anaconda3\\Lib\\site-packages\\sklearn\\base.py:1151: DataConversionWarning: A column-vector y was passed when a 1d array was expected. Please change the shape of y to (n_samples,), for example using ravel().\n",
      "  return fit_method(estimator, *args, **kwargs)\n",
      "C:\\Users\\Guilherme\\anaconda3\\Lib\\site-packages\\sklearn\\base.py:1151: DataConversionWarning: A column-vector y was passed when a 1d array was expected. Please change the shape of y to (n_samples,), for example using ravel().\n",
      "  return fit_method(estimator, *args, **kwargs)\n",
      "C:\\Users\\Guilherme\\anaconda3\\Lib\\site-packages\\sklearn\\base.py:1151: DataConversionWarning: A column-vector y was passed when a 1d array was expected. Please change the shape of y to (n_samples,), for example using ravel().\n",
      "  return fit_method(estimator, *args, **kwargs)\n",
      "C:\\Users\\Guilherme\\anaconda3\\Lib\\site-packages\\sklearn\\base.py:1151: DataConversionWarning: A column-vector y was passed when a 1d array was expected. Please change the shape of y to (n_samples,), for example using ravel().\n",
      "  return fit_method(estimator, *args, **kwargs)\n",
      "C:\\Users\\Guilherme\\anaconda3\\Lib\\site-packages\\sklearn\\base.py:1151: DataConversionWarning: A column-vector y was passed when a 1d array was expected. Please change the shape of y to (n_samples,), for example using ravel().\n",
      "  return fit_method(estimator, *args, **kwargs)\n",
      "C:\\Users\\Guilherme\\anaconda3\\Lib\\site-packages\\sklearn\\base.py:1151: DataConversionWarning: A column-vector y was passed when a 1d array was expected. Please change the shape of y to (n_samples,), for example using ravel().\n",
      "  return fit_method(estimator, *args, **kwargs)\n",
      "C:\\Users\\Guilherme\\anaconda3\\Lib\\site-packages\\sklearn\\base.py:1151: DataConversionWarning: A column-vector y was passed when a 1d array was expected. Please change the shape of y to (n_samples,), for example using ravel().\n",
      "  return fit_method(estimator, *args, **kwargs)\n",
      "C:\\Users\\Guilherme\\anaconda3\\Lib\\site-packages\\sklearn\\base.py:1151: DataConversionWarning: A column-vector y was passed when a 1d array was expected. Please change the shape of y to (n_samples,), for example using ravel().\n",
      "  return fit_method(estimator, *args, **kwargs)\n",
      "C:\\Users\\Guilherme\\anaconda3\\Lib\\site-packages\\sklearn\\base.py:1151: DataConversionWarning: A column-vector y was passed when a 1d array was expected. Please change the shape of y to (n_samples,), for example using ravel().\n",
      "  return fit_method(estimator, *args, **kwargs)\n",
      "C:\\Users\\Guilherme\\anaconda3\\Lib\\site-packages\\sklearn\\base.py:1151: DataConversionWarning: A column-vector y was passed when a 1d array was expected. Please change the shape of y to (n_samples,), for example using ravel().\n",
      "  return fit_method(estimator, *args, **kwargs)\n",
      "C:\\Users\\Guilherme\\anaconda3\\Lib\\site-packages\\sklearn\\base.py:1151: DataConversionWarning: A column-vector y was passed when a 1d array was expected. Please change the shape of y to (n_samples,), for example using ravel().\n",
      "  return fit_method(estimator, *args, **kwargs)\n",
      "C:\\Users\\Guilherme\\anaconda3\\Lib\\site-packages\\sklearn\\base.py:1151: DataConversionWarning: A column-vector y was passed when a 1d array was expected. Please change the shape of y to (n_samples,), for example using ravel().\n",
      "  return fit_method(estimator, *args, **kwargs)\n",
      "C:\\Users\\Guilherme\\anaconda3\\Lib\\site-packages\\sklearn\\base.py:1151: DataConversionWarning: A column-vector y was passed when a 1d array was expected. Please change the shape of y to (n_samples,), for example using ravel().\n",
      "  return fit_method(estimator, *args, **kwargs)\n",
      "C:\\Users\\Guilherme\\anaconda3\\Lib\\site-packages\\sklearn\\base.py:1151: DataConversionWarning: A column-vector y was passed when a 1d array was expected. Please change the shape of y to (n_samples,), for example using ravel().\n",
      "  return fit_method(estimator, *args, **kwargs)\n",
      "C:\\Users\\Guilherme\\anaconda3\\Lib\\site-packages\\sklearn\\base.py:1151: DataConversionWarning: A column-vector y was passed when a 1d array was expected. Please change the shape of y to (n_samples,), for example using ravel().\n",
      "  return fit_method(estimator, *args, **kwargs)\n",
      "C:\\Users\\Guilherme\\anaconda3\\Lib\\site-packages\\sklearn\\base.py:1151: DataConversionWarning: A column-vector y was passed when a 1d array was expected. Please change the shape of y to (n_samples,), for example using ravel().\n",
      "  return fit_method(estimator, *args, **kwargs)\n",
      "C:\\Users\\Guilherme\\anaconda3\\Lib\\site-packages\\sklearn\\base.py:1151: DataConversionWarning: A column-vector y was passed when a 1d array was expected. Please change the shape of y to (n_samples,), for example using ravel().\n",
      "  return fit_method(estimator, *args, **kwargs)\n",
      "C:\\Users\\Guilherme\\anaconda3\\Lib\\site-packages\\sklearn\\base.py:1151: DataConversionWarning: A column-vector y was passed when a 1d array was expected. Please change the shape of y to (n_samples,), for example using ravel().\n",
      "  return fit_method(estimator, *args, **kwargs)\n",
      "C:\\Users\\Guilherme\\anaconda3\\Lib\\site-packages\\sklearn\\base.py:1151: DataConversionWarning: A column-vector y was passed when a 1d array was expected. Please change the shape of y to (n_samples,), for example using ravel().\n",
      "  return fit_method(estimator, *args, **kwargs)\n",
      "C:\\Users\\Guilherme\\anaconda3\\Lib\\site-packages\\sklearn\\base.py:1151: DataConversionWarning: A column-vector y was passed when a 1d array was expected. Please change the shape of y to (n_samples,), for example using ravel().\n",
      "  return fit_method(estimator, *args, **kwargs)\n",
      "C:\\Users\\Guilherme\\anaconda3\\Lib\\site-packages\\sklearn\\base.py:1151: DataConversionWarning: A column-vector y was passed when a 1d array was expected. Please change the shape of y to (n_samples,), for example using ravel().\n",
      "  return fit_method(estimator, *args, **kwargs)\n"
     ]
    },
    {
     "name": "stderr",
     "output_type": "stream",
     "text": [
      "C:\\Users\\Guilherme\\anaconda3\\Lib\\site-packages\\sklearn\\base.py:1151: DataConversionWarning: A column-vector y was passed when a 1d array was expected. Please change the shape of y to (n_samples,), for example using ravel().\n",
      "  return fit_method(estimator, *args, **kwargs)\n",
      "C:\\Users\\Guilherme\\anaconda3\\Lib\\site-packages\\sklearn\\base.py:1151: DataConversionWarning: A column-vector y was passed when a 1d array was expected. Please change the shape of y to (n_samples,), for example using ravel().\n",
      "  return fit_method(estimator, *args, **kwargs)\n",
      "C:\\Users\\Guilherme\\anaconda3\\Lib\\site-packages\\sklearn\\base.py:1151: DataConversionWarning: A column-vector y was passed when a 1d array was expected. Please change the shape of y to (n_samples,), for example using ravel().\n",
      "  return fit_method(estimator, *args, **kwargs)\n",
      "C:\\Users\\Guilherme\\anaconda3\\Lib\\site-packages\\sklearn\\base.py:1151: DataConversionWarning: A column-vector y was passed when a 1d array was expected. Please change the shape of y to (n_samples,), for example using ravel().\n",
      "  return fit_method(estimator, *args, **kwargs)\n",
      "C:\\Users\\Guilherme\\anaconda3\\Lib\\site-packages\\sklearn\\base.py:1151: DataConversionWarning: A column-vector y was passed when a 1d array was expected. Please change the shape of y to (n_samples,), for example using ravel().\n",
      "  return fit_method(estimator, *args, **kwargs)\n",
      "C:\\Users\\Guilherme\\anaconda3\\Lib\\site-packages\\sklearn\\base.py:1151: DataConversionWarning: A column-vector y was passed when a 1d array was expected. Please change the shape of y to (n_samples,), for example using ravel().\n",
      "  return fit_method(estimator, *args, **kwargs)\n",
      "C:\\Users\\Guilherme\\anaconda3\\Lib\\site-packages\\sklearn\\base.py:1151: DataConversionWarning: A column-vector y was passed when a 1d array was expected. Please change the shape of y to (n_samples,), for example using ravel().\n",
      "  return fit_method(estimator, *args, **kwargs)\n",
      "C:\\Users\\Guilherme\\anaconda3\\Lib\\site-packages\\sklearn\\base.py:1151: DataConversionWarning: A column-vector y was passed when a 1d array was expected. Please change the shape of y to (n_samples,), for example using ravel().\n",
      "  return fit_method(estimator, *args, **kwargs)\n",
      "C:\\Users\\Guilherme\\anaconda3\\Lib\\site-packages\\sklearn\\base.py:1151: DataConversionWarning: A column-vector y was passed when a 1d array was expected. Please change the shape of y to (n_samples,), for example using ravel().\n",
      "  return fit_method(estimator, *args, **kwargs)\n",
      "C:\\Users\\Guilherme\\anaconda3\\Lib\\site-packages\\sklearn\\base.py:1151: DataConversionWarning: A column-vector y was passed when a 1d array was expected. Please change the shape of y to (n_samples,), for example using ravel().\n",
      "  return fit_method(estimator, *args, **kwargs)\n",
      "C:\\Users\\Guilherme\\anaconda3\\Lib\\site-packages\\sklearn\\base.py:1151: DataConversionWarning: A column-vector y was passed when a 1d array was expected. Please change the shape of y to (n_samples,), for example using ravel().\n",
      "  return fit_method(estimator, *args, **kwargs)\n",
      "C:\\Users\\Guilherme\\anaconda3\\Lib\\site-packages\\sklearn\\base.py:1151: DataConversionWarning: A column-vector y was passed when a 1d array was expected. Please change the shape of y to (n_samples,), for example using ravel().\n",
      "  return fit_method(estimator, *args, **kwargs)\n",
      "C:\\Users\\Guilherme\\anaconda3\\Lib\\site-packages\\sklearn\\base.py:1151: DataConversionWarning: A column-vector y was passed when a 1d array was expected. Please change the shape of y to (n_samples,), for example using ravel().\n",
      "  return fit_method(estimator, *args, **kwargs)\n",
      "C:\\Users\\Guilherme\\anaconda3\\Lib\\site-packages\\sklearn\\base.py:1151: DataConversionWarning: A column-vector y was passed when a 1d array was expected. Please change the shape of y to (n_samples,), for example using ravel().\n",
      "  return fit_method(estimator, *args, **kwargs)\n",
      "C:\\Users\\Guilherme\\anaconda3\\Lib\\site-packages\\sklearn\\base.py:1151: DataConversionWarning: A column-vector y was passed when a 1d array was expected. Please change the shape of y to (n_samples,), for example using ravel().\n",
      "  return fit_method(estimator, *args, **kwargs)\n",
      "C:\\Users\\Guilherme\\anaconda3\\Lib\\site-packages\\sklearn\\base.py:1151: DataConversionWarning: A column-vector y was passed when a 1d array was expected. Please change the shape of y to (n_samples,), for example using ravel().\n",
      "  return fit_method(estimator, *args, **kwargs)\n",
      "C:\\Users\\Guilherme\\anaconda3\\Lib\\site-packages\\sklearn\\base.py:1151: DataConversionWarning: A column-vector y was passed when a 1d array was expected. Please change the shape of y to (n_samples,), for example using ravel().\n",
      "  return fit_method(estimator, *args, **kwargs)\n",
      "C:\\Users\\Guilherme\\anaconda3\\Lib\\site-packages\\sklearn\\base.py:1151: DataConversionWarning: A column-vector y was passed when a 1d array was expected. Please change the shape of y to (n_samples,), for example using ravel().\n",
      "  return fit_method(estimator, *args, **kwargs)\n",
      "C:\\Users\\Guilherme\\anaconda3\\Lib\\site-packages\\sklearn\\base.py:1151: DataConversionWarning: A column-vector y was passed when a 1d array was expected. Please change the shape of y to (n_samples,), for example using ravel().\n",
      "  return fit_method(estimator, *args, **kwargs)\n",
      "C:\\Users\\Guilherme\\anaconda3\\Lib\\site-packages\\sklearn\\base.py:1151: DataConversionWarning: A column-vector y was passed when a 1d array was expected. Please change the shape of y to (n_samples,), for example using ravel().\n",
      "  return fit_method(estimator, *args, **kwargs)\n",
      "C:\\Users\\Guilherme\\anaconda3\\Lib\\site-packages\\sklearn\\base.py:1151: DataConversionWarning: A column-vector y was passed when a 1d array was expected. Please change the shape of y to (n_samples,), for example using ravel().\n",
      "  return fit_method(estimator, *args, **kwargs)\n",
      "C:\\Users\\Guilherme\\anaconda3\\Lib\\site-packages\\sklearn\\base.py:1151: DataConversionWarning: A column-vector y was passed when a 1d array was expected. Please change the shape of y to (n_samples,), for example using ravel().\n",
      "  return fit_method(estimator, *args, **kwargs)\n",
      "C:\\Users\\Guilherme\\anaconda3\\Lib\\site-packages\\sklearn\\base.py:1151: DataConversionWarning: A column-vector y was passed when a 1d array was expected. Please change the shape of y to (n_samples,), for example using ravel().\n",
      "  return fit_method(estimator, *args, **kwargs)\n",
      "C:\\Users\\Guilherme\\anaconda3\\Lib\\site-packages\\sklearn\\base.py:1151: DataConversionWarning: A column-vector y was passed when a 1d array was expected. Please change the shape of y to (n_samples,), for example using ravel().\n",
      "  return fit_method(estimator, *args, **kwargs)\n",
      "C:\\Users\\Guilherme\\anaconda3\\Lib\\site-packages\\sklearn\\base.py:1151: DataConversionWarning: A column-vector y was passed when a 1d array was expected. Please change the shape of y to (n_samples,), for example using ravel().\n",
      "  return fit_method(estimator, *args, **kwargs)\n",
      "C:\\Users\\Guilherme\\anaconda3\\Lib\\site-packages\\sklearn\\base.py:1151: DataConversionWarning: A column-vector y was passed when a 1d array was expected. Please change the shape of y to (n_samples,), for example using ravel().\n",
      "  return fit_method(estimator, *args, **kwargs)\n",
      "C:\\Users\\Guilherme\\anaconda3\\Lib\\site-packages\\sklearn\\base.py:1151: DataConversionWarning: A column-vector y was passed when a 1d array was expected. Please change the shape of y to (n_samples,), for example using ravel().\n",
      "  return fit_method(estimator, *args, **kwargs)\n",
      "C:\\Users\\Guilherme\\anaconda3\\Lib\\site-packages\\sklearn\\base.py:1151: DataConversionWarning: A column-vector y was passed when a 1d array was expected. Please change the shape of y to (n_samples,), for example using ravel().\n",
      "  return fit_method(estimator, *args, **kwargs)\n",
      "C:\\Users\\Guilherme\\anaconda3\\Lib\\site-packages\\sklearn\\base.py:1151: DataConversionWarning: A column-vector y was passed when a 1d array was expected. Please change the shape of y to (n_samples,), for example using ravel().\n",
      "  return fit_method(estimator, *args, **kwargs)\n",
      "C:\\Users\\Guilherme\\anaconda3\\Lib\\site-packages\\sklearn\\base.py:1151: DataConversionWarning: A column-vector y was passed when a 1d array was expected. Please change the shape of y to (n_samples,), for example using ravel().\n",
      "  return fit_method(estimator, *args, **kwargs)\n",
      "C:\\Users\\Guilherme\\anaconda3\\Lib\\site-packages\\sklearn\\base.py:1151: DataConversionWarning: A column-vector y was passed when a 1d array was expected. Please change the shape of y to (n_samples,), for example using ravel().\n",
      "  return fit_method(estimator, *args, **kwargs)\n"
     ]
    },
    {
     "name": "stderr",
     "output_type": "stream",
     "text": [
      "C:\\Users\\Guilherme\\anaconda3\\Lib\\site-packages\\sklearn\\base.py:1151: DataConversionWarning: A column-vector y was passed when a 1d array was expected. Please change the shape of y to (n_samples,), for example using ravel().\n",
      "  return fit_method(estimator, *args, **kwargs)\n",
      "C:\\Users\\Guilherme\\anaconda3\\Lib\\site-packages\\sklearn\\base.py:1151: DataConversionWarning: A column-vector y was passed when a 1d array was expected. Please change the shape of y to (n_samples,), for example using ravel().\n",
      "  return fit_method(estimator, *args, **kwargs)\n",
      "C:\\Users\\Guilherme\\anaconda3\\Lib\\site-packages\\sklearn\\base.py:1151: DataConversionWarning: A column-vector y was passed when a 1d array was expected. Please change the shape of y to (n_samples,), for example using ravel().\n",
      "  return fit_method(estimator, *args, **kwargs)\n",
      "C:\\Users\\Guilherme\\anaconda3\\Lib\\site-packages\\sklearn\\base.py:1151: DataConversionWarning: A column-vector y was passed when a 1d array was expected. Please change the shape of y to (n_samples,), for example using ravel().\n",
      "  return fit_method(estimator, *args, **kwargs)\n",
      "C:\\Users\\Guilherme\\anaconda3\\Lib\\site-packages\\sklearn\\base.py:1151: DataConversionWarning: A column-vector y was passed when a 1d array was expected. Please change the shape of y to (n_samples,), for example using ravel().\n",
      "  return fit_method(estimator, *args, **kwargs)\n",
      "C:\\Users\\Guilherme\\anaconda3\\Lib\\site-packages\\sklearn\\base.py:1151: DataConversionWarning: A column-vector y was passed when a 1d array was expected. Please change the shape of y to (n_samples,), for example using ravel().\n",
      "  return fit_method(estimator, *args, **kwargs)\n"
     ]
    },
    {
     "data": {
      "image/png": "[encoded data removed]",
      "text/plain": [
       "<Figure size 640x480 with 1 Axes>"
      ]
     },
     "metadata": {},
     "output_type": "display_data"
    }
   ],
   "source": [
    "## Loop melhor parâmetro\n",
    "values = [i for i in range( 1, 100 )]\n",
    "val_scores = list()\n",
    "\n",
    "for i in values:\n",
    "    # Criar um modelo de árvore de decisão\n",
    "    model = RandomForestRegressor(n_estimators=100, max_depth = i)\n",
    "\n",
    "    # Treinar o modelo com os dados de treinamento\n",
    "    model.fit(X_train, y_train)\n",
    "\n",
    "    # Fazer previsões nos dados de teste\n",
    "    yhat_test = model.predict(X_test)\n",
    "    \n",
    "    #acc_val = mt.accuracy_score( y_test, yhat_val )\n",
    "    r2 = mt.r2_score(y_test, yhat_test)\n",
    "    val_scores.append( r2 )\n",
    "\n",
    "plt.plot( values, val_scores, '-o', label='Treino' )\n",
    "plt.legend()\n",
    "plt.show()"
   ]
  },
  {
   "cell_type": "code",
   "execution_count": 30,
   "id": "989c35e4",
   "metadata": {},
   "outputs": [
    {
     "name": "stderr",
     "output_type": "stream",
     "text": [
      "C:\\Users\\Guilherme\\anaconda3\\Lib\\site-packages\\sklearn\\base.py:1151: DataConversionWarning: A column-vector y was passed when a 1d array was expected. Please change the shape of y to (n_samples,), for example using ravel().\n",
      "  return fit_method(estimator, *args, **kwargs)\n"
     ]
    },
    {
     "name": "stdout",
     "output_type": "stream",
     "text": [
      "[['R²:', 0.903], ['MSE:', 46.452], ['RMSE:', 6.816], ['MAE:', 4.865], ['MAPE:', 2.627]]\n",
      "[['R²:', 0.337], ['MSE:', 316.779], ['RMSE:', 17.798], ['MAE:', 12.992], ['MAPE:', 7.073]]\n",
      "[['R²:', 0.352], ['MSE:', 315.526], ['RMSE:', 17.763], ['MAE:', 13.025], ['MAPE:', 6.684]]\n"
     ]
    }
   ],
   "source": [
    "import numpy as np\n",
    "\n",
    "# Criar um modelo Random Forest\n",
    "model = RandomForestRegressor(n_estimators=100, max_depth=100)\n",
    "\n",
    "# Treinar o modelo com os dados de treinamento\n",
    "model.fit(X_train, y_train)\n",
    "\n",
    "# Fazer previsões nos dados de teste\n",
    "yhat_train = model.predict(X_train)\n",
    "yhat_val = model.predict(X_val)\n",
    "yhat_test = model.predict(X_test)\n",
    "\n",
    "print(metrics(y_train,yhat_train))\n",
    "print(metrics(y_val,yhat_val))\n",
    "print(metrics(y_test,yhat_test))"
   ]
  },
  {
   "cell_type": "code",
   "execution_count": null,
   "id": "aba1e0f2",
   "metadata": {},
   "outputs": [],
   "source": []
  }
 ],
 "metadata": {
  "kernelspec": {
   "display_name": "Python 3 (ipykernel)",
   "language": "python",
   "name": "python3"
  },
  "language_info": {
   "codemirror_mode": {
    "name": "ipython",
    "version": 3
   },
   "file_extension": ".py",
   "mimetype": "text/x-python",
   "name": "python",
   "nbconvert_exporter": "python",
   "pygments_lexer": "ipython3",
   "version": "3.11.4"
  }
 },
 "nbformat": 4,
 "nbformat_minor": 5
}
